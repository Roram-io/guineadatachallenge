{
 "cells": [
  {
   "cell_type": "code",
   "execution_count": null,
   "metadata": {},
   "outputs": [],
   "source": [
    "# %% [parameters]"
   ]
  },
  {
   "cell_type": "markdown",
   "metadata": {},
   "source": [
    "# Análisis de Datos de historial de Sismos en Perú"
   ]
  },
  {
   "cell_type": "markdown",
   "metadata": {},
   "source": [
    "El siguiente documento Muestra un reporte estadístico y visual sobre la actividad sísmica en Perú"
   ]
  },
  {
   "cell_type": "code",
   "execution_count": null,
   "metadata": {},
   "outputs": [],
   "source": [
    "from datetime import datetime\n",
    "print(\"Última Ejecución: \", datetime.now().strftime(\"%Y-%m-%d %H:%M:%S\"))"
   ]
  },
  {
   "cell_type": "code",
   "execution_count": null,
   "metadata": {},
   "outputs": [],
   "source": [
    "import pandas as pd\n",
    "import matplotlib.pyplot as plt\n",
    "import folium\n",
    "from io import StringIO\n",
    "from folium.plugins import HeatMap\n",
    "\n",
    "# Se utiliza StringIO para simular un archivo CSV\n",
    "df = pd.read_csv(data_path)"
   ]
  },
  {
   "cell_type": "markdown",
   "metadata": {},
   "source": [
    "Esta información viene de la Base de Datos anteriormente procesada. Solo se tiene en cuenta la actividad sísmica relevante, es decir, con una magnitud de 4 en escala de ritcher hasta 9.\n",
    "Cualquier dato con datos diferentes, además de valores Nulos, fue eliminado para poder tener una muestra más limpia que analizar."
   ]
  },
  {
   "cell_type": "code",
   "execution_count": null,
   "metadata": {},
   "outputs": [],
   "source": [
    "print(\"Estadísticas de los Datos\")\n",
    "print(\"Cantidad de Datos\")\n",
    "print(df.shape[0])\n",
    "\n",
    "print(\"Muestra: \")\n",
    "print(df.head())"
   ]
  },
  {
   "cell_type": "markdown",
   "metadata": {},
   "source": [
    "Algunos de los datos más importantes son el rango de Fechas y los valores mínimos y máximos."
   ]
  },
  {
   "cell_type": "code",
   "execution_count": null,
   "metadata": {},
   "outputs": [],
   "source": [
    "df[\"fecha_peru\"] = pd.to_datetime(df[\"fecha_peru\"], errors=\"coerce\")\n",
    "print(\"Fecha de Inicio\", df[\"fecha_peru\"].min())\n",
    "print(\"Fecha de Fin\", df[\"fecha_peru\"].max())\n",
    "\n",
    "\n",
    "print(\"Valor Mínimo\", df[\"magnitud\"].min())\n",
    "print(\"Valor Máximo\", df[\"magnitud\"].max())\n",
    "\n",
    "print(\"Promedio de Magnitud\", df[\"magnitud\"].mean().round(3))\n",
    "print(\"Desviación Estándar\", df[\"magnitud\"].std().round(3))\n"
   ]
  },
  {
   "cell_type": "markdown",
   "metadata": {},
   "source": [
    "Generaremos un gráfico a lo largo del tiempo para analizar la frecuencia de los sismos"
   ]
  },
  {
   "cell_type": "code",
   "execution_count": null,
   "metadata": {},
   "outputs": [],
   "source": [
    "# Convertir la columna 'fecha_peru' a tipo datetime\n",
    "df[\"fecha_peru\"] = pd.to_datetime(df[\"fecha_peru\"])\n",
    "\n",
    "df[\"year\"] = df[\"fecha_peru\"].dt.year\n",
    "sismos_por_anio = df[\"year\"].value_counts().sort_index()\n",
    "\n",
    "# Se prepara el gráfico\n",
    "plt.figure(figsize=(10, 5))\n",
    "plt.plot(sismos_por_anio.index, sismos_por_anio.values, marker=\"o\", linestyle=\"-\", color=\"b\")\n",
    "plt.xlabel(\"Año\")\n",
    "plt.ylabel(\"Cantidad de Sismos\")\n",
    "plt.title(\"Frecuencia de Sismos a lo Largo del Tiempo\")\n",
    "plt.grid(True)\n",
    "plt.show()"
   ]
  },
  {
   "cell_type": "markdown",
   "metadata": {},
   "source": [
    "Finalmente se genera un mapa de calor para poder visualizar la actividad sísmica"
   ]
  },
  {
   "cell_type": "code",
   "execution_count": null,
   "metadata": {},
   "outputs": [],
   "source": [
    "centro_mapa = [df['latitud'].mean(), df['longitud'].mean()]\n",
    "m = folium.Map(location=centro_mapa, zoom_start=5, control_scale=True)\n",
    "datos_heat = df[['latitud', 'longitud']].values.tolist()\n",
    "HeatMap(datos_heat).add_to(m)\n",
    "# Se ajusta el tamaño del mapa para no ocupar toda la celda. Esto se hace usando CSS.\n",
    "m.save(\"mapa.html\")\n",
    "m"
   ]
  }
 ],
 "metadata": {
  "kernelspec": {
   "display_name": "Python 3",
   "language": "python",
   "name": "python3"
  },
  "language_info": {
   "codemirror_mode": {
    "name": "ipython",
    "version": 3
   },
   "file_extension": ".py",
   "mimetype": "text/x-python",
   "name": "python",
   "nbconvert_exporter": "python",
   "pygments_lexer": "ipython3",
   "version": "3.12.5"
  }
 },
 "nbformat": 4,
 "nbformat_minor": 2
}
