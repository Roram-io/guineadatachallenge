{
 "cells": [
  {
   "cell_type": "markdown",
   "metadata": {},
   "source": [
    "# Análisis de Datos de historial de Sismos en Perú"
   ]
  },
  {
   "cell_type": "markdown",
   "metadata": {},
   "source": [
    "El siguiente documento Muestra un reporte estadístico y visual sobre la actividad sísmica en Perú"
   ]
  },
  {
   "cell_type": "code",
   "execution_count": 8,
   "metadata": {},
   "outputs": [
    {
     "name": "stdout",
     "output_type": "stream",
     "text": [
      "Última Ejecución:  2025-03-02 02:56:22\n"
     ]
    }
   ],
   "source": [
    "from datetime import datetime\n",
    "print(\"Última Ejecución: \", datetime.now().strftime(\"%Y-%m-%d %H:%M:%S\"))"
   ]
  },
  {
   "cell_type": "code",
   "execution_count": null,
   "metadata": {
    "tags": [
     "parameters"
    ]
   },
   "outputs": [],
   "source": [
    "import pandas as pd\n",
    "import matplotlib.pyplot as plt\n",
    "import folium\n",
    "from io import StringIO\n",
    "from folium.plugins import HeatMap\n",
    "\n",
    "# Se utiliza StringIO para simular un archivo CSV\n",
    "data_path = \"data.csv\"\n",
    "df = pd.read_parquet(data_path)"
   ]
  },
  {
   "cell_type": "markdown",
   "metadata": {},
   "source": [
    "Esta información viene de la Base de Datos anteriormente procesada. Solo se tiene en cuenta la actividad sísmica relevante, es decir, con una magnitud de 4 en escala de ritcher hasta 9.\n",
    "Cualquier dato con datos diferentes, además de valores Nulos, fue eliminado para poder tener una muestra más limpia que analizar."
   ]
  },
  {
   "cell_type": "code",
   "execution_count": 2,
   "metadata": {},
   "outputs": [
    {
     "name": "stdout",
     "output_type": "stream",
     "text": [
      "Estadísticas de los Datos\n",
      "Cantidad de Datos\n",
      "5\n",
      "Muestra: \n",
      "            fecha_peru  latitud  longitud  profundidad  magnitud\n",
      "0  1950-03-12 14:23:45  -16.145   -72.144           60       7.5\n",
      "1  1955-07-25 09:15:30  -15.000   -75.000           70       7.0\n",
      "2  1963-11-05 02:50:10  -14.500   -74.500          150       6.4\n",
      "3  1972-06-18 18:30:00  -12.500   -68.500          300       5.8\n",
      "4  1988-09-27 07:45:20   -5.500   -77.500          100       5.7\n"
     ]
    }
   ],
   "source": [
    "print(\"Estadísticas de los Datos\")\n",
    "print(\"Cantidad de Datos\")\n",
    "print(df.shape[0])\n",
    "\n",
    "print(\"Muestra: \")\n",
    "print(df.head())"
   ]
  },
  {
   "cell_type": "markdown",
   "metadata": {},
   "source": [
    "Algunos de los datos más importantes son el rango de Fechas y los valores mínimos y máximos."
   ]
  },
  {
   "cell_type": "code",
   "execution_count": null,
   "metadata": {},
   "outputs": [
    {
     "name": "stdout",
     "output_type": "stream",
     "text": [
      "Fecha de Inicio 1950-03-12 14:23:45\n",
      "Fecha de Fin 1988-09-27 07:45:20\n",
      "Valor Mínimo 5.7\n",
      "Valor Máximo 7.5\n",
      "Promedio 6.48\n",
      "Desviación Estándar 0.773\n"
     ]
    }
   ],
   "source": [
    "print(\"Fecha de Inicio\", df[\"fecha_peru\"].min())\n",
    "print(\"Fecha de Fin\", df[\"fecha_peru\"].max())\n",
    "\n",
    "\n",
    "print(\"Valor Mínimo\", df[\"magnitud\"].min())\n",
    "print(\"Valor Máximo\", df[\"magnitud\"].max())\n",
    "\n",
    "print(\"Promedio de Magnitud\", df[\"magnitud\"].mean().round(3))\n",
    "print(\"Desviación Estándar\", df[\"magnitud\"].std().round(3))\n"
   ]
  },
  {
   "cell_type": "markdown",
   "metadata": {},
   "source": [
    "Generaremos un gráfico a lo largo del tiempo para analizar la frecuencia de los sismos"
   ]
  },
  {
   "cell_type": "code",
   "execution_count": 4,
   "metadata": {},
   "outputs": [
    {
     "data": {
      "image/png": "[encoded data removed]",
      "text/plain": [
       "<Figure size 1000x500 with 1 Axes>"
      ]
     },
     "metadata": {},
     "output_type": "display_data"
    }
   ],
   "source": [
    "# Convertir la columna 'fecha_peru' a tipo datetime\n",
    "df[\"fecha_peru\"] = pd.to_datetime(df[\"fecha_peru\"])\n",
    "\n",
    "df[\"year\"] = df[\"fecha_peru\"].dt.year\n",
    "sismos_por_anio = df[\"year\"].value_counts().sort_index()\n",
    "\n",
    "# Se prepara el gráfico\n",
    "plt.figure(figsize=(10, 5))\n",
    "plt.plot(sismos_por_anio.index, sismos_por_anio.values, marker=\"o\", linestyle=\"-\", color=\"b\")\n",
    "plt.xlabel(\"Año\")\n",
    "plt.ylabel(\"Cantidad de Sismos\")\n",
    "plt.title(\"Frecuencia de Sismos a lo Largo del Tiempo\")\n",
    "plt.grid(True)\n",
    "plt.show()"
   ]
  },
  {
   "cell_type": "markdown",
   "metadata": {},
   "source": [
    "Finalmente se genera un mapa de calor para poder visualizar la actividad sísmica"
   ]
  },
  {
   "cell_type": "code",
   "execution_count": 7,
   "metadata": {},
   "outputs": [
    {
     "data": {
      "text/html": [
       "<div style=\"width:100%;\"><div style=\"position:relative;width:100%;height:0;padding-bottom:60%;\"><span style=\"color:#565656\">Make this Notebook Trusted to load map: File -> Trust Notebook</span><iframe srcdoc=\"&lt;!DOCTYPE html&gt;\n",
       "&lt;html&gt;\n",
       "&lt;head&gt;\n",
       "    \n",
       "    &lt;meta http-equiv=&quot;content-type&quot; content=&quot;text/html; charset=UTF-8&quot; /&gt;\n",
       "    \n",
       "        &lt;script&gt;\n",
       "            L_NO_TOUCH = false;\n",
       "            L_DISABLE_3D = false;\n",
       "        &lt;/script&gt;\n",
       "    \n",
       "    &lt;style&gt;html, body {width: 100%;height: 100%;margin: 0;padding: 0;}&lt;/style&gt;\n",
       "    &lt;style&gt;#map {position:absolute;top:0;bottom:0;right:0;left:0;}&lt;/style&gt;\n",
       "    &lt;script src=&quot;https://cdn.jsdelivr.net/npm/leaflet@1.9.3/dist/leaflet.js&quot;&gt;&lt;/script&gt;\n",
       "    &lt;script src=&quot;https://code.jquery.com/jquery-3.7.1.min.js&quot;&gt;&lt;/script&gt;\n",
       "    &lt;script src=&quot;https://cdn.jsdelivr.net/npm/bootstrap@5.2.2/dist/js/bootstrap.bundle.min.js&quot;&gt;&lt;/script&gt;\n",
       "    &lt;script src=&quot;https://cdnjs.cloudflare.com/ajax/libs/Leaflet.awesome-markers/2.0.2/leaflet.awesome-markers.js&quot;&gt;&lt;/script&gt;\n",
       "    &lt;link rel=&quot;stylesheet&quot; href=&quot;https://cdn.jsdelivr.net/npm/leaflet@1.9.3/dist/leaflet.css&quot;/&gt;\n",
       "    &lt;link rel=&quot;stylesheet&quot; href=&quot;https://cdn.jsdelivr.net/npm/bootstrap@5.2.2/dist/css/bootstrap.min.css&quot;/&gt;\n",
       "    &lt;link rel=&quot;stylesheet&quot; href=&quot;https://netdna.bootstrapcdn.com/bootstrap/3.0.0/css/bootstrap-glyphicons.css&quot;/&gt;\n",
       "    &lt;link rel=&quot;stylesheet&quot; href=&quot;https://cdn.jsdelivr.net/npm/@fortawesome/fontawesome-free@6.2.0/css/all.min.css&quot;/&gt;\n",
       "    &lt;link rel=&quot;stylesheet&quot; href=&quot;https://cdnjs.cloudflare.com/ajax/libs/Leaflet.awesome-markers/2.0.2/leaflet.awesome-markers.css&quot;/&gt;\n",
       "    &lt;link rel=&quot;stylesheet&quot; href=&quot;https://cdn.jsdelivr.net/gh/python-visualization/folium/folium/templates/leaflet.awesome.rotate.min.css&quot;/&gt;\n",
       "    \n",
       "            &lt;meta name=&quot;viewport&quot; content=&quot;width=device-width,\n",
       "                initial-scale=1.0, maximum-scale=1.0, user-scalable=no&quot; /&gt;\n",
       "            &lt;style&gt;\n",
       "                #map_6f1e55e87162bf7625e732fa222ff43b {\n",
       "                    position: relative;\n",
       "                    width: 100.0%;\n",
       "                    height: 100.0%;\n",
       "                    left: 0.0%;\n",
       "                    top: 0.0%;\n",
       "                }\n",
       "                .leaflet-container { font-size: 1rem; }\n",
       "            &lt;/style&gt;\n",
       "        \n",
       "    &lt;script src=&quot;https://cdn.jsdelivr.net/gh/python-visualization/folium@main/folium/templates/leaflet_heat.min.js&quot;&gt;&lt;/script&gt;\n",
       "&lt;/head&gt;\n",
       "&lt;body&gt;\n",
       "    \n",
       "    \n",
       "            &lt;div class=&quot;folium-map&quot; id=&quot;map_6f1e55e87162bf7625e732fa222ff43b&quot; &gt;&lt;/div&gt;\n",
       "        \n",
       "&lt;/body&gt;\n",
       "&lt;script&gt;\n",
       "    \n",
       "    \n",
       "            var map_6f1e55e87162bf7625e732fa222ff43b = L.map(\n",
       "                &quot;map_6f1e55e87162bf7625e732fa222ff43b&quot;,\n",
       "                {\n",
       "                    center: [-12.729, -73.5288],\n",
       "                    crs: L.CRS.EPSG3857,\n",
       "                    ...{\n",
       "  &quot;zoom&quot;: 5,\n",
       "  &quot;zoomControl&quot;: true,\n",
       "  &quot;preferCanvas&quot;: false,\n",
       "}\n",
       "\n",
       "                }\n",
       "            );\n",
       "            L.control.scale().addTo(map_6f1e55e87162bf7625e732fa222ff43b);\n",
       "\n",
       "            \n",
       "\n",
       "        \n",
       "    \n",
       "            var tile_layer_ef3a51161b832d94273a7693d7e4f9c5 = L.tileLayer(\n",
       "                &quot;https://tile.openstreetmap.org/{z}/{x}/{y}.png&quot;,\n",
       "                {\n",
       "  &quot;minZoom&quot;: 0,\n",
       "  &quot;maxZoom&quot;: 19,\n",
       "  &quot;maxNativeZoom&quot;: 19,\n",
       "  &quot;noWrap&quot;: false,\n",
       "  &quot;attribution&quot;: &quot;\\u0026copy; \\u003ca href=\\&quot;https://www.openstreetmap.org/copyright\\&quot;\\u003eOpenStreetMap\\u003c/a\\u003e contributors&quot;,\n",
       "  &quot;subdomains&quot;: &quot;abc&quot;,\n",
       "  &quot;detectRetina&quot;: false,\n",
       "  &quot;tms&quot;: false,\n",
       "  &quot;opacity&quot;: 1,\n",
       "}\n",
       "\n",
       "            );\n",
       "        \n",
       "    \n",
       "            tile_layer_ef3a51161b832d94273a7693d7e4f9c5.addTo(map_6f1e55e87162bf7625e732fa222ff43b);\n",
       "        \n",
       "    \n",
       "            var heat_map_158bea8e74acefa51c87ceca3094876f = L.heatLayer(\n",
       "                [[-16.145, -72.144], [-15.0, -75.0], [-14.5, -74.5], [-12.5, -68.5], [-5.5, -77.5]],\n",
       "                {\n",
       "  &quot;minOpacity&quot;: 0.5,\n",
       "  &quot;maxZoom&quot;: 18,\n",
       "  &quot;radius&quot;: 25,\n",
       "  &quot;blur&quot;: 15,\n",
       "}\n",
       "            );\n",
       "        \n",
       "    \n",
       "            heat_map_158bea8e74acefa51c87ceca3094876f.addTo(map_6f1e55e87162bf7625e732fa222ff43b);\n",
       "        \n",
       "    \n",
       "            tile_layer_ef3a51161b832d94273a7693d7e4f9c5.addTo(map_6f1e55e87162bf7625e732fa222ff43b);\n",
       "        \n",
       "    \n",
       "            heat_map_158bea8e74acefa51c87ceca3094876f.addTo(map_6f1e55e87162bf7625e732fa222ff43b);\n",
       "        \n",
       "&lt;/script&gt;\n",
       "&lt;/html&gt;\" style=\"position:absolute;width:100%;height:100%;left:0;top:0;border:none !important;\" allowfullscreen webkitallowfullscreen mozallowfullscreen></iframe></div></div>"
      ],
      "text/plain": [
       "<folium.folium.Map at 0x298830759a0>"
      ]
     },
     "execution_count": 7,
     "metadata": {},
     "output_type": "execute_result"
    }
   ],
   "source": [
    "centro_mapa = [df['latitud'].mean(), df['longitud'].mean()]\n",
    "m = folium.Map(location=centro_mapa, zoom_start=5, control_scale=True)\n",
    "datos_heat = df[['latitud', 'longitud']].values.tolist()\n",
    "HeatMap(datos_heat).add_to(m)\n",
    "# Se ajusta el tamaño del mapa para no ocupar toda la celda. Esto se hace usando CSS.\n",
    "m.save(\"mapa.html\")\n",
    "m"
   ]
  }
 ],
 "metadata": {
  "kernelspec": {
   "display_name": "Python 3",
   "language": "python",
   "name": "python3"
  },
  "language_info": {
   "codemirror_mode": {
    "name": "ipython",
    "version": 3
   },
   "file_extension": ".py",
   "mimetype": "text/x-python",
   "name": "python",
   "nbconvert_exporter": "python",
   "pygments_lexer": "ipython3",
   "version": "3.12.5"
  }
 },
 "nbformat": 4,
 "nbformat_minor": 2
}
